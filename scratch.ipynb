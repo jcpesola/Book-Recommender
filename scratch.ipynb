{
 "cells": [
  {
   "cell_type": "code",
   "execution_count": 6,
   "metadata": {},
   "outputs": [],
   "source": [
    "set_variable = set()\n",
    "list_variable = list()"
   ]
  },
  {
   "cell_type": "code",
   "execution_count": 7,
   "metadata": {},
   "outputs": [],
   "source": [
    "list_variable.append(\"Julia\")\n",
    "set_variable.add(\"Julia\")"
   ]
  },
  {
   "cell_type": "code",
   "execution_count": 8,
   "metadata": {},
   "outputs": [
    {
     "name": "stdout",
     "output_type": "stream",
     "text": [
      "list_variable:  ['Julia']\n",
      "set_variable:  {'Julia'}\n"
     ]
    }
   ],
   "source": [
    "print(\"list_variable: \", list_variable)\n",
    "print(\"set_variable: \", set_variable)"
   ]
  },
  {
   "cell_type": "code",
   "execution_count": 9,
   "metadata": {},
   "outputs": [
    {
     "name": "stdout",
     "output_type": "stream",
     "text": [
      "list_variable:  ['Julia', 'Julia']\n",
      "set_variable:  {'Julia'}\n"
     ]
    }
   ],
   "source": [
    "list_variable.append(\"Julia\")\n",
    "set_variable.add(\"Julia\")\n",
    "print(\"list_variable: \", list_variable)\n",
    "print(\"set_variable: \", set_variable)"
   ]
  },
  {
   "cell_type": "code",
   "execution_count": 10,
   "metadata": {},
   "outputs": [
    {
     "name": "stdout",
     "output_type": "stream",
     "text": [
      "set_variable_new:  {'Julia'}\n"
     ]
    }
   ],
   "source": [
    "set_variable_new = set(list_variable)\n",
    "print(\"set_variable_new: \", set_variable_new)"
   ]
  },
  {
   "cell_type": "code",
   "execution_count": 11,
   "metadata": {},
   "outputs": [
    {
     "name": "stdout",
     "output_type": "stream",
     "text": [
      "list_new_variable:  ['Julia']\n"
     ]
    }
   ],
   "source": [
    "list_new_variable = list(set_variable_new)\n",
    "print(\"list_new_variable: \", list_new_variable)"
   ]
  },
  {
   "cell_type": "code",
   "execution_count": 15,
   "metadata": {},
   "outputs": [],
   "source": [
    "ab_workouts = {\"crunch\", \"russian twist\", \"leg lift\", \"plank\", \"tuck up\"}\n",
    "core_workouts = {\"bicycle\", \"crunch\", \"leg lift\", \"push ups\", \"down dog\"}"
   ]
  },
  {
   "cell_type": "code",
   "execution_count": 20,
   "metadata": {},
   "outputs": [
    {
     "name": "stdout",
     "output_type": "stream",
     "text": [
      "ab_workouts:  {'russian twist', 'plank', 'leg lift', 'crunch', 'tuck up'}\n",
      "{'russian twist', 'plank', 'tuck up'}\n",
      "{'leg lift', 'crunch'}\n",
      "{'push ups', 'down dog', 'leg lift', 'tuck up', 'russian twist', 'plank', 'bicycle', 'crunch'}\n"
     ]
    }
   ],
   "source": [
    "print(\"ab_workouts: \", ab_workouts)\n",
    "print(ab_workouts - core_workouts)\n",
    "print((ab_workouts.intersection(core_workouts)))\n",
    "print(ab_workouts.union(core_workouts))"
   ]
  },
  {
   "cell_type": "code",
   "execution_count": 19,
   "metadata": {},
   "outputs": [
    {
     "name": "stdout",
     "output_type": "stream",
     "text": [
      "5\n"
     ]
    }
   ],
   "source": [
    "print(len(ab_workouts))"
   ]
  },
  {
   "cell_type": "code",
   "execution_count": null,
   "metadata": {},
   "outputs": [],
   "source": []
  }
 ],
 "metadata": {
  "kernelspec": {
   "display_name": "Python 3",
   "language": "python",
   "name": "python3"
  },
  "language_info": {
   "codemirror_mode": {
    "name": "ipython",
    "version": 3
   },
   "file_extension": ".py",
   "mimetype": "text/x-python",
   "name": "python",
   "nbconvert_exporter": "python",
   "pygments_lexer": "ipython3",
   "version": "3.12.0"
  }
 },
 "nbformat": 4,
 "nbformat_minor": 2
}
